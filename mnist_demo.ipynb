{
 "cells": [
  {
   "cell_type": "code",
   "execution_count": null,
   "metadata": {
    "collapsed": true
   },
   "outputs": [],
   "source": [
    "# just in case you are running python 2\n",
    "from __future__ import print_function\n",
    "\n",
    "# just for viewing images\n",
    "import numpy as np\n",
    "import matplotlib.pyplot as plt\n",
    "%matplotlib inline"
   ]
  },
  {
   "cell_type": "markdown",
   "metadata": {},
   "source": [
    "# Compare performance and ease of use between Tensorflow and keras\n",
    "\n",
    "### By the end of this demo you will have:\n",
    "- built 3 neural networks\n",
    "- solved a multiclass classification problem\n",
    "- approached state of the art performance on MNIST"
   ]
  },
  {
   "cell_type": "markdown",
   "metadata": {},
   "source": [
    "# Tensorflow"
   ]
  },
  {
   "cell_type": "markdown",
   "metadata": {},
   "source": [
    "If you have a tensorflow supported GPU\n",
    "```\n",
    "pip install tensorflow-gpu\n",
    "```\n",
    "If you dont (most Mac Users)\n",
    "```\n",
    "pip install tensorflow\n",
    "```\n",
    "\n",
    "<a href=\"https://www.tensorflow.org/versions/r0.11/get_started/os_setup\">TensorFlow Install Help</a>\n",
    "\n",
    "<a href=\"https://www.tensorflow.org/\">Tensorflow Docs</a> <--> Really good documentation on NN's\n",
    "\n",
    "### This demo was built off of Tensorflow version 0.12.1"
   ]
  },
  {
   "cell_type": "code",
   "execution_count": null,
   "metadata": {
    "collapsed": false
   },
   "outputs": [],
   "source": [
    "import tensorflow as tf\n",
    "from tensorflow.examples.tutorials.mnist import input_data\n",
    "mnist = input_data.read_data_sets('MNIST_data', one_hot=True)\n",
    "\n",
    "def preview_tf_mnist(n):\n",
    "    \"\"\"Just to view the training data\"\"\"\n",
    "    plt.imshow(mnist.train.images[n].reshape(28,28),\n",
    "           cmap='gray')\n",
    "    print('True Label:',np.argmax(mnist.train.labels[n]))\n",
    "    plt.show()\n",
    "    \n",
    "def evaluate_tf_mnist(n,prediction):\n",
    "    \"\"\"Just to view the training data\"\"\"\n",
    "    plt.imshow(mnist.test.images[n].reshape(28,28),\n",
    "           cmap='gray')\n",
    "    print('True Label:',np.argmax(mnist.test.labels[n]))\n",
    "    print('Prediction:',prediction)\n",
    "    plt.show()"
   ]
  },
  {
   "cell_type": "code",
   "execution_count": null,
   "metadata": {
    "collapsed": false
   },
   "outputs": [],
   "source": [
    "preview_tf_mnist(135)"
   ]
  },
  {
   "cell_type": "markdown",
   "metadata": {},
   "source": [
    "### Simple no hidden layer NN"
   ]
  },
  {
   "cell_type": "markdown",
   "metadata": {},
   "source": [
    "<img src=\"simple_nn.png\" width=\"400px\">"
   ]
  },
  {
   "cell_type": "code",
   "execution_count": null,
   "metadata": {
    "collapsed": false
   },
   "outputs": [],
   "source": [
    "tf.__version__"
   ]
  },
  {
   "cell_type": "code",
   "execution_count": null,
   "metadata": {
    "collapsed": false
   },
   "outputs": [],
   "source": [
    "# create new tensorflow session\n",
    "sess = tf.InteractiveSession()\n",
    "\n",
    "# create placeholders for inputs and outputs\n",
    "x = tf.placeholder(tf.float32, shape=[None,784])\n",
    "y_ = tf.placeholder(tf.float32, shape=[None,10])\n",
    "\n",
    "W = tf.Variable(tf.zeros([784,10]))\n",
    "b = tf.Variable(tf.zeros([10]))\n",
    "\n",
    "# initialize variables into session\n",
    "# this variable initializer is different for older versions\n",
    "sess.run(tf.global_variables_initializer())\n",
    "\n",
    "y = tf.matmul(x,W) + b"
   ]
  },
  {
   "cell_type": "code",
   "execution_count": null,
   "metadata": {
    "collapsed": true
   },
   "outputs": [],
   "source": [
    "# loss function\n",
    "cross_entropy = tf.reduce_mean(\\\n",
    "                tf.nn.softmax_cross_entropy_with_logits(y,y_)\\\n",
    "                              )"
   ]
  },
  {
   "cell_type": "code",
   "execution_count": null,
   "metadata": {
    "collapsed": true
   },
   "outputs": [],
   "source": [
    "# optimizer\n",
    "train_step = tf.train.GradientDescentOptimizer(0.5)\\\n",
    "                .minimize(cross_entropy)"
   ]
  },
  {
   "cell_type": "code",
   "execution_count": null,
   "metadata": {
    "collapsed": false
   },
   "outputs": [],
   "source": [
    "# train the net\n",
    "# 1000 training iterations\n",
    "for i in range(1000):\n",
    "    batch = mnist.train.next_batch(100)\n",
    "    train_step.run(feed_dict={x:batch[0], y_:batch[1]})"
   ]
  },
  {
   "cell_type": "code",
   "execution_count": null,
   "metadata": {
    "collapsed": false
   },
   "outputs": [],
   "source": [
    "# evaluate performance\n",
    "correct_prediction = tf.equal(tf.argmax(y,1), tf.argmax(y_,1))\n",
    "accuracy = tf.reduce_mean(tf.cast(correct_prediction, tf.float32))\n",
    "print('Accuracy:',\n",
    "      accuracy.eval(feed_dict={x: mnist.test.images,\n",
    "                               y_: mnist.test.labels}))"
   ]
  },
  {
   "cell_type": "markdown",
   "metadata": {},
   "source": [
    "Not too bad 92% accuracy for a 10 class classification problem in less than 15 lines of code"
   ]
  },
  {
   "cell_type": "markdown",
   "metadata": {},
   "source": [
    "# keras\n",
    "```\n",
    "pip install keras\n",
    "```\n",
    "requires either tensorflow or theano installation"
   ]
  },
  {
   "cell_type": "code",
   "execution_count": null,
   "metadata": {
    "collapsed": false
   },
   "outputs": [],
   "source": [
    "from keras.models import Sequential\n",
    "from keras.layers import Dense\n",
    "from keras.optimizers import SGD"
   ]
  },
  {
   "cell_type": "code",
   "execution_count": null,
   "metadata": {
    "collapsed": false
   },
   "outputs": [],
   "source": [
    "model = Sequential()\n",
    "model.add(Dense(10,input_dim=784,activation='softmax'))\n",
    "sgd = SGD(0.5)\n",
    "model.compile(loss='categorical_crossentropy', optimizer=sgd, metrics=['accuracy'])\n",
    "print(model.summary())"
   ]
  },
  {
   "cell_type": "code",
   "execution_count": null,
   "metadata": {
    "collapsed": false
   },
   "outputs": [],
   "source": [
    "model.fit(mnist.train.images,mnist.train.labels, \n",
    "          batch_size=100, nb_epoch=5, \n",
    "          validation_data=(mnist.test.images,mnist.test.labels))"
   ]
  },
  {
   "cell_type": "code",
   "execution_count": null,
   "metadata": {
    "collapsed": false
   },
   "outputs": [],
   "source": [
    "score = model.evaluate(mnist.test.images,\n",
    "                       mnist.test.labels,\n",
    "                       verbose=0)\n",
    "print('Accuracy:',score[1])"
   ]
  },
  {
   "cell_type": "markdown",
   "metadata": {},
   "source": [
    "Same results as TensorFlow, but half the amount of code needed.\n",
    "\n",
    "### What performance can we get using keras in 10 lines of code?\n",
    "\n",
    "Intro convolutional Neural Nets"
   ]
  },
  {
   "cell_type": "code",
   "execution_count": null,
   "metadata": {
    "collapsed": false
   },
   "outputs": [],
   "source": [
    "train_2d = mnist.train.images.reshape(len(mnist.train.images),28,28,1)\n",
    "test_2d = mnist.test.images.reshape(len(mnist.test.images),28,28,1)"
   ]
  },
  {
   "cell_type": "code",
   "execution_count": null,
   "metadata": {
    "collapsed": true
   },
   "outputs": [],
   "source": [
    "from keras.layers import Convolution2D, MaxPooling2D, Flatten"
   ]
  },
  {
   "cell_type": "code",
   "execution_count": null,
   "metadata": {
    "collapsed": false
   },
   "outputs": [],
   "source": [
    "model = Sequential()\n",
    "model.add(Convolution2D(32,5,5,\n",
    "                        input_shape=(28,28,1),\n",
    "                        activation='relu',\n",
    "                       init='normal'))\n",
    "model.add(MaxPooling2D((2,2)))\n",
    "model.add(Convolution2D(64,5,5,activation='relu',init='normal'))\n",
    "model.add(MaxPooling2D((2,2)))\n",
    "model.add(Flatten())\n",
    "model.add(Dense(1024,activation='relu',init='normal'))\n",
    "model.add(Dense(10))\n",
    "model.compile(loss='categorical_crossentropy', optimizer='sgd', metrics=['accuracy'])\n",
    "print(model.summary())"
   ]
  },
  {
   "cell_type": "code",
   "execution_count": null,
   "metadata": {
    "collapsed": false
   },
   "outputs": [],
   "source": [
    "model.fit(train_2d,mnist.train.labels, \n",
    "          batch_size=100, nb_epoch=5, \n",
    "          validation_data=(test_2d,mnist.test.labels))"
   ]
  },
  {
   "cell_type": "code",
   "execution_count": null,
   "metadata": {
    "collapsed": false
   },
   "outputs": [],
   "source": [
    "score = model.evaluate(test_2d,\n",
    "                       mnist.test.labels,\n",
    "                       verbose=0)\n",
    "print('Accuracy:',score[1])"
   ]
  },
  {
   "cell_type": "markdown",
   "metadata": {},
   "source": [
    "98% accuracy in 10 lines of code on a 10 class classification problem.\n",
    "\n",
    "Identical Tensorflow NN is about 35 lines of code."
   ]
  },
  {
   "cell_type": "markdown",
   "metadata": {},
   "source": [
    "### Visualize Convolution Kernels"
   ]
  },
  {
   "cell_type": "code",
   "execution_count": null,
   "metadata": {
    "collapsed": false
   },
   "outputs": [],
   "source": [
    "def plot_filters(layer):\n",
    "    w = layer.get_weights()[0][:,:,0,:]\n",
    "    print(w.shape)\n",
    "    for k in range(w.shape[-1]):\n",
    "        kernel = w[:,:,k]\n",
    "        plt.imshow(kernel,cmap='gray',\n",
    "                   origin='lower',\n",
    "                   interpolation=None)\n",
    "        plt.show()"
   ]
  },
  {
   "cell_type": "code",
   "execution_count": null,
   "metadata": {
    "collapsed": false,
    "scrolled": true
   },
   "outputs": [],
   "source": [
    "conv1 = model.layers[0]\n",
    "plot_filters(conv1)"
   ]
  },
  {
   "cell_type": "code",
   "execution_count": null,
   "metadata": {
    "collapsed": false,
    "scrolled": true
   },
   "outputs": [],
   "source": [
    "conv2 = model.layers[2]\n",
    "plot_filters(conv2)"
   ]
  },
  {
   "cell_type": "markdown",
   "metadata": {},
   "source": [
    "# Takeaway\n",
    "\n",
    "- Neural nets are an incredibly powerful ML tool\n",
    "- keras provides a nice API built on top of tensorflow or theano\n",
    "- building NN in keras is just as easy as scikit learn, in fact keras provides an interface with scikit learn, so you can use NNs just like any other ML algorithm.\n"
   ]
  },
  {
   "cell_type": "code",
   "execution_count": null,
   "metadata": {
    "collapsed": true
   },
   "outputs": [],
   "source": []
  }
 ],
 "metadata": {
  "anaconda-cloud": {},
  "kernelspec": {
   "display_name": "Python [default]",
   "language": "python",
   "name": "python3"
  },
  "language_info": {
   "codemirror_mode": {
    "name": "ipython",
    "version": 3
   },
   "file_extension": ".py",
   "mimetype": "text/x-python",
   "name": "python",
   "nbconvert_exporter": "python",
   "pygments_lexer": "ipython3",
   "version": "3.5.2"
  }
 },
 "nbformat": 4,
 "nbformat_minor": 1
}
