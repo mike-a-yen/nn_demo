{
 "cells": [
  {
   "cell_type": "code",
   "execution_count": 1,
   "metadata": {
    "collapsed": true
   },
   "outputs": [],
   "source": [
    "# just for viewing images\n",
    "import numpy as np\n",
    "import matplotlib.pyplot as plt\n",
    "%matplotlib inline"
   ]
  },
  {
   "cell_type": "markdown",
   "metadata": {},
   "source": [
    "# Compare performance and ease of use between Tensorflow and keras\n",
    "\n",
    "### By the end of this demo you will have:\n",
    "- built 3 neural networks\n",
    "- solved a multiclass classification problem\n",
    "- approached state of the art performance on MNIST"
   ]
  },
  {
   "cell_type": "markdown",
   "metadata": {},
   "source": [
    "# Tensorflow"
   ]
  },
  {
   "cell_type": "markdown",
   "metadata": {},
   "source": [
    "If you have a tensorflow supported GPU\n",
    "```\n",
    "pip install tensorflow-gpu\n",
    "```\n",
    "If you dont (most Mac Users)\n",
    "```\n",
    "pip install tensorflow\n",
    "```\n",
    "<a href=\"https://www.tensorflow.org/\">Tensorflow Docs</a>\n",
    "\n",
    "Really good documentation on NN's"
   ]
  },
  {
   "cell_type": "code",
   "execution_count": 2,
   "metadata": {
    "collapsed": false
   },
   "outputs": [
    {
     "name": "stdout",
     "output_type": "stream",
     "text": [
      "Extracting MNIST_data/train-images-idx3-ubyte.gz\n",
      "Extracting MNIST_data/train-labels-idx1-ubyte.gz\n",
      "Extracting MNIST_data/t10k-images-idx3-ubyte.gz\n",
      "Extracting MNIST_data/t10k-labels-idx1-ubyte.gz\n"
     ]
    }
   ],
   "source": [
    "import tensorflow as tf\n",
    "from tensorflow.examples.tutorials.mnist import input_data\n",
    "mnist = input_data.read_data_sets('MNIST_data', one_hot=True)\n",
    "\n",
    "def preview_tf_mnist(n):\n",
    "    \"\"\"Just to view the training data\"\"\"\n",
    "    plt.imshow(mnist.train.images[n].reshape(28,28),\n",
    "           cmap='gray')\n",
    "    print('True Label:',np.argmax(mnist.train.labels[n]))\n",
    "    plt.show()\n",
    "    \n",
    "def evaluate_tf_mnist(n,prediction):\n",
    "    \"\"\"Just to view the training data\"\"\"\n",
    "    plt.imshow(mnist.test.images[n].reshape(28,28),\n",
    "           cmap='gray')\n",
    "    print('True Label:',np.argmax(mnist.test.labels[n]))\n",
    "    print('Prediction:',prediction)\n",
    "    plt.show()"
   ]
  },
  {
   "cell_type": "code",
   "execution_count": 3,
   "metadata": {
    "collapsed": false
   },
   "outputs": [
    {
     "name": "stdout",
     "output_type": "stream",
     "text": [
      "True Label: 6\n"
     ]
    },
    {
     "data": {
      "image/png": "[encoded data removed]",
      "text/plain": [
       "<matplotlib.figure.Figure at 0x7f01ea74bcc0>"
      ]
     },
     "metadata": {},
     "output_type": "display_data"
    }
   ],
   "source": [
    "preview_tf_mnist(121)"
   ]
  },
  {
   "cell_type": "markdown",
   "metadata": {},
   "source": [
    "### Simple no hidden layer NN"
   ]
  },
  {
   "cell_type": "markdown",
   "metadata": {},
   "source": [
    "<img src=\"simple_nn.png\" width=\"400px\">"
   ]
  },
  {
   "cell_type": "code",
   "execution_count": 5,
   "metadata": {
    "collapsed": false
   },
   "outputs": [],
   "source": [
    "# create new tensorflow session\n",
    "sess = tf.InteractiveSession()\n",
    "\n",
    "# create placeholders for inputs and outputs\n",
    "x = tf.placeholder(tf.float32, shape=[None,784])\n",
    "y_ = tf.placeholder(tf.float32, shape=[None,10])\n",
    "\n",
    "W = tf.Variable(tf.zeros([784,10]))\n",
    "b = tf.Variable(tf.zeros([10]))\n",
    "\n",
    "# initialize variables into session\n",
    "sess.run(tf.global_variables_initializer())\n",
    "\n",
    "y = tf.matmul(x,W) + b"
   ]
  },
  {
   "cell_type": "code",
   "execution_count": 6,
   "metadata": {
    "collapsed": true
   },
   "outputs": [],
   "source": [
    "# loss function\n",
    "cross_entropy = tf.reduce_mean(\\\n",
    "                tf.nn.softmax_cross_entropy_with_logits(y,y_)\\\n",
    "                              )"
   ]
  },
  {
   "cell_type": "code",
   "execution_count": 7,
   "metadata": {
    "collapsed": true
   },
   "outputs": [],
   "source": [
    "# optimizer\n",
    "train_step = tf.train.GradientDescentOptimizer(0.5)\\\n",
    "                .minimize(cross_entropy)"
   ]
  },
  {
   "cell_type": "code",
   "execution_count": 8,
   "metadata": {
    "collapsed": false
   },
   "outputs": [],
   "source": [
    "# train the net\n",
    "# 1000 training iterations\n",
    "for i in range(1000):\n",
    "    batch = mnist.train.next_batch(100)\n",
    "    train_step.run(feed_dict={x:batch[0], y_:batch[1]})"
   ]
  },
  {
   "cell_type": "code",
   "execution_count": 9,
   "metadata": {
    "collapsed": false
   },
   "outputs": [
    {
     "name": "stdout",
     "output_type": "stream",
     "text": [
      "Accuracy: 0.9184\n"
     ]
    }
   ],
   "source": [
    "# evaluate performance\n",
    "correct_prediction = tf.equal(tf.argmax(y,1), tf.argmax(y_,1))\n",
    "accuracy = tf.reduce_mean(tf.cast(correct_prediction, tf.float32))\n",
    "print('Accuracy:',\n",
    "      accuracy.eval(feed_dict={x: mnist.test.images,\n",
    "                               y_: mnist.test.labels}))"
   ]
  },
  {
   "cell_type": "markdown",
   "metadata": {},
   "source": [
    "Not too bad 92% accuracy for a 10 class classification problem in less than 15 lines of code"
   ]
  },
  {
   "cell_type": "markdown",
   "metadata": {},
   "source": [
    "# keras\n",
    "```\n",
    "pip install keras\n",
    "```\n",
    "requires either tensorflow or theano installation"
   ]
  },
  {
   "cell_type": "code",
   "execution_count": 10,
   "metadata": {
    "collapsed": false
   },
   "outputs": [
    {
     "name": "stderr",
     "output_type": "stream",
     "text": [
      "Using TensorFlow backend.\n"
     ]
    }
   ],
   "source": [
    "from keras.models import Sequential\n",
    "from keras.layers import Dense\n",
    "from keras.optimizers import SGD"
   ]
  },
  {
   "cell_type": "code",
   "execution_count": 11,
   "metadata": {
    "collapsed": false
   },
   "outputs": [
    {
     "name": "stdout",
     "output_type": "stream",
     "text": [
      "____________________________________________________________________________________________________\n",
      "Layer (type)                     Output Shape          Param #     Connected to                     \n",
      "====================================================================================================\n",
      "dense_1 (Dense)                  (None, 10)            7850        dense_input_1[0][0]              \n",
      "====================================================================================================\n",
      "Total params: 7,850\n",
      "Trainable params: 7,850\n",
      "Non-trainable params: 0\n",
      "____________________________________________________________________________________________________\n",
      "None\n"
     ]
    }
   ],
   "source": [
    "model = Sequential()\n",
    "model.add(Dense(10,input_dim=784,activation='softmax'))\n",
    "sgd = SGD(0.5)\n",
    "model.compile(loss='categorical_crossentropy', optimizer=sgd, metrics=['accuracy'])\n",
    "print(model.summary())"
   ]
  },
  {
   "cell_type": "code",
   "execution_count": 12,
   "metadata": {
    "collapsed": false
   },
   "outputs": [
    {
     "name": "stdout",
     "output_type": "stream",
     "text": [
      "Train on 55000 samples, validate on 10000 samples\n",
      "Epoch 1/5\n",
      "55000/55000 [==============================] - 3s - loss: 0.4038 - acc: 0.8826 - val_loss: 0.3010 - val_acc: 0.9168\n",
      "Epoch 2/5\n",
      "55000/55000 [==============================] - 4s - loss: 0.3109 - acc: 0.9123 - val_loss: 0.2883 - val_acc: 0.9201\n",
      "Epoch 3/5\n",
      "55000/55000 [==============================] - 3s - loss: 0.2963 - acc: 0.9160 - val_loss: 0.2798 - val_acc: 0.9221\n",
      "Epoch 4/5\n",
      "55000/55000 [==============================] - 4s - loss: 0.2874 - acc: 0.9197 - val_loss: 0.2781 - val_acc: 0.9216\n",
      "Epoch 5/5\n",
      "55000/55000 [==============================] - 3s - loss: 0.2814 - acc: 0.9211 - val_loss: 0.2795 - val_acc: 0.9226\n"
     ]
    },
    {
     "data": {
      "text/plain": [
       "<keras.callbacks.History at 0x7f0162112710>"
      ]
     },
     "execution_count": 12,
     "metadata": {},
     "output_type": "execute_result"
    }
   ],
   "source": [
    "model.fit(mnist.train.images,mnist.train.labels, \n",
    "          batch_size=100, nb_epoch=5, \n",
    "          validation_data=(mnist.test.images,mnist.test.labels))"
   ]
  },
  {
   "cell_type": "code",
   "execution_count": 13,
   "metadata": {
    "collapsed": false
   },
   "outputs": [
    {
     "name": "stdout",
     "output_type": "stream",
     "text": [
      "Accuracy: 0.9226\n"
     ]
    }
   ],
   "source": [
    "score = model.evaluate(mnist.test.images,\n",
    "                       mnist.test.labels,\n",
    "                       verbose=0)\n",
    "print('Accuracy:',score[1])"
   ]
  },
  {
   "cell_type": "markdown",
   "metadata": {},
   "source": [
    "Same results as TensorFlow, but half the amount of code needed.\n",
    "\n",
    "### What performance can we get using keras in 10 lines of code?\n",
    "\n",
    "Intro convolutional Neural Nets"
   ]
  },
  {
   "cell_type": "code",
   "execution_count": 14,
   "metadata": {
    "collapsed": false
   },
   "outputs": [],
   "source": [
    "train_2d = mnist.train.images.reshape(len(mnist.train.images),28,28,1)\n",
    "test_2d = mnist.test.images.reshape(len(mnist.test.images),28,28,1)"
   ]
  },
  {
   "cell_type": "code",
   "execution_count": 15,
   "metadata": {
    "collapsed": true
   },
   "outputs": [],
   "source": [
    "from keras.layers import Convolution2D, MaxPooling2D, Flatten"
   ]
  },
  {
   "cell_type": "code",
   "execution_count": 16,
   "metadata": {
    "collapsed": false
   },
   "outputs": [
    {
     "name": "stdout",
     "output_type": "stream",
     "text": [
      "____________________________________________________________________________________________________\n",
      "Layer (type)                     Output Shape          Param #     Connected to                     \n",
      "====================================================================================================\n",
      "convolution2d_1 (Convolution2D)  (None, 24, 24, 32)    832         convolution2d_input_1[0][0]      \n",
      "____________________________________________________________________________________________________\n",
      "maxpooling2d_1 (MaxPooling2D)    (None, 12, 12, 32)    0           convolution2d_1[0][0]            \n",
      "____________________________________________________________________________________________________\n",
      "convolution2d_2 (Convolution2D)  (None, 8, 8, 64)      51264       maxpooling2d_1[0][0]             \n",
      "____________________________________________________________________________________________________\n",
      "maxpooling2d_2 (MaxPooling2D)    (None, 4, 4, 64)      0           convolution2d_2[0][0]            \n",
      "____________________________________________________________________________________________________\n",
      "flatten_1 (Flatten)              (None, 1024)          0           maxpooling2d_2[0][0]             \n",
      "____________________________________________________________________________________________________\n",
      "dense_2 (Dense)                  (None, 1024)          1049600     flatten_1[0][0]                  \n",
      "____________________________________________________________________________________________________\n",
      "dense_3 (Dense)                  (None, 10)            10250       dense_2[0][0]                    \n",
      "====================================================================================================\n",
      "Total params: 1,111,946\n",
      "Trainable params: 1,111,946\n",
      "Non-trainable params: 0\n",
      "____________________________________________________________________________________________________\n",
      "None\n"
     ]
    }
   ],
   "source": [
    "model = Sequential()\n",
    "model.add(Convolution2D(32,5,5,\n",
    "                        input_shape=(28,28,1),\n",
    "                        activation='relu'))\n",
    "model.add(MaxPooling2D((2,2)))\n",
    "model.add(Convolution2D(64,5,5,activation='relu'))\n",
    "model.add(MaxPooling2D((2,2)))\n",
    "model.add(Flatten())\n",
    "model.add(Dense(1024,activation='relu'))\n",
    "model.add(Dense(10,activation='softmax'))\n",
    "model.compile(loss='categorical_crossentropy', optimizer=sgd, metrics=['accuracy'])\n",
    "print(model.summary())"
   ]
  },
  {
   "cell_type": "code",
   "execution_count": 17,
   "metadata": {
    "collapsed": false
   },
   "outputs": [
    {
     "name": "stdout",
     "output_type": "stream",
     "text": [
      "Train on 55000 samples, validate on 10000 samples\n",
      "Epoch 1/5\n",
      "55000/55000 [==============================] - 16s - loss: 0.7169 - acc: 0.7592 - val_loss: 0.0884 - val_acc: 0.9726\n",
      "Epoch 2/5\n",
      "55000/55000 [==============================] - 16s - loss: 0.0759 - acc: 0.9759 - val_loss: 0.0643 - val_acc: 0.9786\n",
      "Epoch 3/5\n",
      "55000/55000 [==============================] - 15s - loss: 0.0472 - acc: 0.9848 - val_loss: 0.0493 - val_acc: 0.9845\n",
      "Epoch 4/5\n",
      "55000/55000 [==============================] - 12s - loss: 0.0351 - acc: 0.9885 - val_loss: 0.0440 - val_acc: 0.9854\n",
      "Epoch 5/5\n",
      "55000/55000 [==============================] - 11s - loss: 0.0231 - acc: 0.9928 - val_loss: 0.0475 - val_acc: 0.9863\n"
     ]
    },
    {
     "data": {
      "text/plain": [
       "<keras.callbacks.History at 0x7f0161bdbe80>"
      ]
     },
     "execution_count": 17,
     "metadata": {},
     "output_type": "execute_result"
    }
   ],
   "source": [
    "model.fit(train_2d,mnist.train.labels, \n",
    "          batch_size=100, nb_epoch=5, \n",
    "          validation_data=(test_2d,mnist.test.labels))"
   ]
  },
  {
   "cell_type": "code",
   "execution_count": 18,
   "metadata": {
    "collapsed": false
   },
   "outputs": [
    {
     "name": "stdout",
     "output_type": "stream",
     "text": [
      "Accuracy: 0.9863\n"
     ]
    }
   ],
   "source": [
    "score = model.evaluate(test_2d,\n",
    "                       mnist.test.labels,\n",
    "                       verbose=0)\n",
    "print('Accuracy:',score[1])"
   ]
  },
  {
   "cell_type": "markdown",
   "metadata": {},
   "source": [
    "99% accuracy in 10 lines of code on a 10 class classification problem.\n",
    "\n",
    "Identical Tensorflow NN is about 35 lines of code."
   ]
  },
  {
   "cell_type": "markdown",
   "metadata": {},
   "source": [
    "# Takeaway\n",
    "\n",
    "- Neural nets are an incredibly powerful ML tool\n",
    "- keras provides a nice API built on top of tensorflow or theano\n",
    "- building NN in keras is just as easy as scikit learn, in fact keras provides an interface with scikit learn, so you can use NNs just like any other ML algorithm.\n"
   ]
  },
  {
   "cell_type": "code",
   "execution_count": null,
   "metadata": {
    "collapsed": true
   },
   "outputs": [],
   "source": []
  }
 ],
 "metadata": {
  "anaconda-cloud": {},
  "kernelspec": {
   "display_name": "Python [default]",
   "language": "python",
   "name": "python3"
  },
  "language_info": {
   "codemirror_mode": {
    "name": "ipython",
    "version": 3
   },
   "file_extension": ".py",
   "mimetype": "text/x-python",
   "name": "python",
   "nbconvert_exporter": "python",
   "pygments_lexer": "ipython3",
   "version": "3.5.2"
  }
 },
 "nbformat": 4,
 "nbformat_minor": 1
}
